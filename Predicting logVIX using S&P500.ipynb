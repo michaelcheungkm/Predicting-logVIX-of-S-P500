{
 "cells": [
  {
   "cell_type": "code",
   "execution_count": 1,
   "id": "244dd9d5",
   "metadata": {},
   "outputs": [],
   "source": [
    "import warnings\n",
    "import matplotlib\n",
    "import pandas as pd\n",
    "import numpy as np\n",
    "from IPython.display import Image\n",
    "from pylab import rcParams\n",
    "from IPython.display import Image\n",
    "warnings.filterwarnings('ignore')\n",
    "# Default parameters for plots\n",
    "matplotlib.rcParams['font.size'] = 12\n",
    "matplotlib.rcParams['figure.titlesize'] = 16\n",
    "matplotlib.rcParams['figure.figsize'] = [16, 9]\n",
    "#np.set_printoptions(suppress=True)\n",
    "pd.options.display.float_format = '{:.6f}'.format\n",
    "# Removes the limit for the number of displayed columns\n",
    "pd.set_option(\"display.max_columns\", None)\n",
    "# Sets the limit for the number of displayed rows\n",
    "pd.set_option(\"display.max_rows\", 200)\n",
    "np.set_printoptions(suppress=True)\n",
    "pd.set_option('display.max_rows', None)"
   ]
  },
  {
   "cell_type": "code",
   "execution_count": 2,
   "id": "750246ad",
   "metadata": {},
   "outputs": [],
   "source": [
    "import yfinance as yf\n",
    "import matplotlib.pyplot as plt\n",
    "from datetime import datetime, timedelta\n",
    "from tqdm import tqdm\n",
    "import pickle\n",
    "import seaborn as sns\n",
    "import time"
   ]
  },
  {
   "cell_type": "code",
   "execution_count": 52,
   "id": "64409814",
   "metadata": {},
   "outputs": [],
   "source": [
    "from sklearn.model_selection import train_test_split, cross_val_score, KFold\n",
    "from sklearn.linear_model import LinearRegression, Ridge, Lasso, ElasticNet\n",
    "from sklearn import linear_model\n",
    "from sklearn.metrics import make_scorer,mean_squared_error, r2_score, mean_absolute_error\n",
    "from sklearn.preprocessing import StandardScaler, MinMaxScaler"
   ]
  },
  {
   "cell_type": "code",
   "execution_count": 76,
   "id": "c1273d9c",
   "metadata": {},
   "outputs": [],
   "source": [
    "# RMSE\n",
    "def rmse(predictions, targets):\n",
    "    return np.sqrt(((targets - predictions) ** 2).mean())\n",
    "\n",
    "\n",
    "# MAPE\n",
    "def mape(predictions, targets):\n",
    "    return np.mean(np.abs((targets - predictions)) / targets) * 100\n",
    "\n",
    "\n",
    "# MAE\n",
    "def mae(predictions, targets):\n",
    "    return np.mean(np.abs((targets - predictions)))"
   ]
  },
  {
   "cell_type": "code",
   "execution_count": 3,
   "id": "fcd347cc",
   "metadata": {},
   "outputs": [
    {
     "name": "stdout",
     "output_type": "stream",
     "text": [
      "E:\\Optimal Portfolio\n"
     ]
    }
   ],
   "source": [
    "cd E:\\Optimal Portfolio"
   ]
  },
  {
   "cell_type": "code",
   "execution_count": 55,
   "id": "91661b5f",
   "metadata": {},
   "outputs": [
    {
     "name": "stdout",
     "output_type": "stream",
     "text": [
      "[*********************100%***********************]  2 of 2 completed\n"
     ]
    }
   ],
   "source": [
    "sp_data = yf.download([\"^VIX\",\"^GSPC\"],'1999-01-01','2023-05-26')"
   ]
  },
  {
   "cell_type": "code",
   "execution_count": 62,
   "id": "7f87553f",
   "metadata": {},
   "outputs": [
    {
     "data": {
      "text/html": [
       "<div>\n",
       "<style scoped>\n",
       "    .dataframe tbody tr th:only-of-type {\n",
       "        vertical-align: middle;\n",
       "    }\n",
       "\n",
       "    .dataframe tbody tr th {\n",
       "        vertical-align: top;\n",
       "    }\n",
       "\n",
       "    .dataframe thead th {\n",
       "        text-align: right;\n",
       "    }\n",
       "</style>\n",
       "<table border=\"1\" class=\"dataframe\">\n",
       "  <thead>\n",
       "    <tr style=\"text-align: right;\">\n",
       "      <th></th>\n",
       "      <th>GSPC</th>\n",
       "      <th>VIX</th>\n",
       "    </tr>\n",
       "    <tr>\n",
       "      <th>Date</th>\n",
       "      <th></th>\n",
       "      <th></th>\n",
       "    </tr>\n",
       "  </thead>\n",
       "  <tbody>\n",
       "    <tr>\n",
       "      <th>2023-05-19</th>\n",
       "      <td>4191.979980</td>\n",
       "      <td>16.809999</td>\n",
       "    </tr>\n",
       "    <tr>\n",
       "      <th>2023-05-22</th>\n",
       "      <td>4192.629883</td>\n",
       "      <td>17.209999</td>\n",
       "    </tr>\n",
       "    <tr>\n",
       "      <th>2023-05-23</th>\n",
       "      <td>4145.580078</td>\n",
       "      <td>18.530001</td>\n",
       "    </tr>\n",
       "    <tr>\n",
       "      <th>2023-05-24</th>\n",
       "      <td>4115.240234</td>\n",
       "      <td>20.030001</td>\n",
       "    </tr>\n",
       "    <tr>\n",
       "      <th>2023-05-25</th>\n",
       "      <td>4151.279785</td>\n",
       "      <td>19.139999</td>\n",
       "    </tr>\n",
       "  </tbody>\n",
       "</table>\n",
       "</div>"
      ],
      "text/plain": [
       "                  GSPC       VIX\n",
       "Date                            \n",
       "2023-05-19 4191.979980 16.809999\n",
       "2023-05-22 4192.629883 17.209999\n",
       "2023-05-23 4145.580078 18.530001\n",
       "2023-05-24 4115.240234 20.030001\n",
       "2023-05-25 4151.279785 19.139999"
      ]
     },
     "execution_count": 62,
     "metadata": {},
     "output_type": "execute_result"
    }
   ],
   "source": [
    "close_data = sp_data['Adj Close']\n",
    "close_data.columns = ['GSPC','VIX']\n",
    "close_data.tail()"
   ]
  },
  {
   "cell_type": "code",
   "execution_count": 63,
   "id": "659b55ca",
   "metadata": {},
   "outputs": [],
   "source": [
    "close_data['log_VIX'] = np.log(close_data['VIX'])\n",
    "close_data['return_GSPC'] = close_data['GSPC'].pct_change()\n",
    "close_data['return_VIX'] = close_data['log_VIX'].diff()"
   ]
  },
  {
   "cell_type": "code",
   "execution_count": 64,
   "id": "1ed486e5",
   "metadata": {},
   "outputs": [],
   "source": [
    "close_data = close_data.iloc[1:]"
   ]
  },
  {
   "cell_type": "code",
   "execution_count": 65,
   "id": "bd1784f4",
   "metadata": {},
   "outputs": [
    {
     "data": {
      "text/html": [
       "<div>\n",
       "<style scoped>\n",
       "    .dataframe tbody tr th:only-of-type {\n",
       "        vertical-align: middle;\n",
       "    }\n",
       "\n",
       "    .dataframe tbody tr th {\n",
       "        vertical-align: top;\n",
       "    }\n",
       "\n",
       "    .dataframe thead th {\n",
       "        text-align: right;\n",
       "    }\n",
       "</style>\n",
       "<table border=\"1\" class=\"dataframe\">\n",
       "  <thead>\n",
       "    <tr style=\"text-align: right;\">\n",
       "      <th></th>\n",
       "      <th>GSPC</th>\n",
       "      <th>VIX</th>\n",
       "      <th>log_VIX</th>\n",
       "      <th>return_GSPC</th>\n",
       "      <th>return_VIX</th>\n",
       "    </tr>\n",
       "    <tr>\n",
       "      <th>Date</th>\n",
       "      <th></th>\n",
       "      <th></th>\n",
       "      <th></th>\n",
       "      <th></th>\n",
       "      <th></th>\n",
       "    </tr>\n",
       "  </thead>\n",
       "  <tbody>\n",
       "    <tr>\n",
       "      <th>1999-01-05</th>\n",
       "      <td>1244.780029</td>\n",
       "      <td>24.459999</td>\n",
       "      <td>3.197039</td>\n",
       "      <td>0.013582</td>\n",
       "      <td>-0.067575</td>\n",
       "    </tr>\n",
       "    <tr>\n",
       "      <th>1999-01-06</th>\n",
       "      <td>1272.339966</td>\n",
       "      <td>23.340000</td>\n",
       "      <td>3.150169</td>\n",
       "      <td>0.022140</td>\n",
       "      <td>-0.046870</td>\n",
       "    </tr>\n",
       "    <tr>\n",
       "      <th>1999-01-07</th>\n",
       "      <td>1269.729980</td>\n",
       "      <td>24.370001</td>\n",
       "      <td>3.193353</td>\n",
       "      <td>-0.002051</td>\n",
       "      <td>0.043184</td>\n",
       "    </tr>\n",
       "    <tr>\n",
       "      <th>1999-01-08</th>\n",
       "      <td>1275.089966</td>\n",
       "      <td>23.280001</td>\n",
       "      <td>3.147595</td>\n",
       "      <td>0.004221</td>\n",
       "      <td>-0.045758</td>\n",
       "    </tr>\n",
       "    <tr>\n",
       "      <th>1999-01-11</th>\n",
       "      <td>1263.880005</td>\n",
       "      <td>25.459999</td>\n",
       "      <td>3.237109</td>\n",
       "      <td>-0.008792</td>\n",
       "      <td>0.089514</td>\n",
       "    </tr>\n",
       "  </tbody>\n",
       "</table>\n",
       "</div>"
      ],
      "text/plain": [
       "                  GSPC       VIX  log_VIX  return_GSPC  return_VIX\n",
       "Date                                                              \n",
       "1999-01-05 1244.780029 24.459999 3.197039     0.013582   -0.067575\n",
       "1999-01-06 1272.339966 23.340000 3.150169     0.022140   -0.046870\n",
       "1999-01-07 1269.729980 24.370001 3.193353    -0.002051    0.043184\n",
       "1999-01-08 1275.089966 23.280001 3.147595     0.004221   -0.045758\n",
       "1999-01-11 1263.880005 25.459999 3.237109    -0.008792    0.089514"
      ]
     },
     "execution_count": 65,
     "metadata": {},
     "output_type": "execute_result"
    }
   ],
   "source": [
    "close_data.head()"
   ]
  },
  {
   "cell_type": "code",
   "execution_count": 67,
   "id": "42b4c8e4",
   "metadata": {},
   "outputs": [],
   "source": [
    "close_data['abs_return_GSPC'] = np.abs(close_data['return_GSPC'])"
   ]
  },
  {
   "cell_type": "code",
   "execution_count": 66,
   "id": "cd394cdb",
   "metadata": {},
   "outputs": [
    {
     "data": {
      "text/plain": [
       "6138"
      ]
     },
     "execution_count": 66,
     "metadata": {},
     "output_type": "execute_result"
    }
   ],
   "source": [
    "len(close_data)"
   ]
  },
  {
   "cell_type": "markdown",
   "id": "f5431a23",
   "metadata": {},
   "source": [
    "**Consider the following model on predicting the VIX**\n",
    "\n",
    "\n",
    "\n",
    "Let $X_{t}$ and $\\sigma_{t}^{2}$ be the return of GSPC and the VIX at time $t$. Assume that\n",
    "\n",
    "\n",
    "\n",
    "$$\\ln\\big(\\sigma_{t}^{2}\\big) = \\alpha_{0} + \\alpha_{1}\\ln\\big(\\sigma_{t-1}^{2}\\big) + \\cdots + \\alpha_{p}\\ln\\big(\\sigma_{t-p}^{2}\\big) + \\beta_{1}X_{t-1} + \\cdots + \\beta_{p}X_{t-p} + \\gamma_{1}\\vert X_{t-1}\\vert + \\cdots + \\gamma_{p}\\vert X_{t-p}\\vert.$$"
   ]
  },
  {
   "cell_type": "code",
   "execution_count": 68,
   "id": "643082ea",
   "metadata": {},
   "outputs": [],
   "source": [
    "def vix_reg(df,r=0.8,p=1):\n",
    "    ddf = df.copy()\n",
    "    for i in range(1,p+1):\n",
    "        ddf[f'log_VIX{i}'] = ddf.log_VIX.shift(i)\n",
    "        ddf[f'return_GSPC{i}'] = ddf.return_GSPC.shift(i)\n",
    "        ddf[f'abs_return_GSPC{i}'] = ddf.abs_return_GSPC.shift(i)\n",
    "    ddf = ddf.dropna()\n",
    "    train_data = ddf[:int(r*len(ddf))]\n",
    "    test_data = ddf[int(r*len(ddf)):]\n",
    "    X_train = train_data[[f'log_VIX{i}' for i in range(1,p+1)] + [f'return_GSPC{i}' for i in range(1,p+1)] + \n",
    "                         [f'abs_return_GSPC{i}' for i in range(1,p+1)]].values\n",
    "    Y_train = train_data[['log_VIX']].values\n",
    "    X_test = test_data[[f'log_VIX{i}' for i in range(1,p+1)] + [f'return_GSPC{i}' for i in range(1,p+1)] + \n",
    "                         [f'abs_return_GSPC{i}' for i in range(1,p+1)]].values\n",
    "    Y_test = test_data[['log_VIX']].values\n",
    "    vol_reg = LinearRegression().fit(X_train, Y_train)\n",
    "    return pd.DataFrame({\"Data\":['Train','Test'], f\"p={p}\":[vol_reg.score(X_train,Y_train),vol_reg.score(X_test,Y_test)]})"
   ]
  },
  {
   "cell_type": "code",
   "execution_count": 69,
   "id": "f9aefde9",
   "metadata": {},
   "outputs": [
    {
     "data": {
      "text/html": [
       "<div>\n",
       "<style scoped>\n",
       "    .dataframe tbody tr th:only-of-type {\n",
       "        vertical-align: middle;\n",
       "    }\n",
       "\n",
       "    .dataframe tbody tr th {\n",
       "        vertical-align: top;\n",
       "    }\n",
       "\n",
       "    .dataframe thead th {\n",
       "        text-align: right;\n",
       "    }\n",
       "</style>\n",
       "<table border=\"1\" class=\"dataframe\">\n",
       "  <thead>\n",
       "    <tr style=\"text-align: right;\">\n",
       "      <th></th>\n",
       "      <th>Data</th>\n",
       "      <th>p=2</th>\n",
       "    </tr>\n",
       "  </thead>\n",
       "  <tbody>\n",
       "    <tr>\n",
       "      <th>0</th>\n",
       "      <td>Train</td>\n",
       "      <td>0.967442</td>\n",
       "    </tr>\n",
       "    <tr>\n",
       "      <th>1</th>\n",
       "      <td>Test</td>\n",
       "      <td>0.951993</td>\n",
       "    </tr>\n",
       "  </tbody>\n",
       "</table>\n",
       "</div>"
      ],
      "text/plain": [
       "    Data      p=2\n",
       "0  Train 0.967442\n",
       "1   Test 0.951993"
      ]
     },
     "execution_count": 69,
     "metadata": {},
     "output_type": "execute_result"
    }
   ],
   "source": [
    "vix_reg(close_data,r=0.7,p=2)"
   ]
  },
  {
   "cell_type": "markdown",
   "id": "ea6c3dcd",
   "metadata": {},
   "source": [
    "**To find the best $p$, the following function determines the $R^{2}$ on the training and on the testing data. We define the testing data to be the last $20\\%$ of the series.**"
   ]
  },
  {
   "cell_type": "code",
   "execution_count": 70,
   "id": "35ee5f30",
   "metadata": {},
   "outputs": [
    {
     "data": {
      "text/html": [
       "<div>\n",
       "<style scoped>\n",
       "    .dataframe tbody tr th:only-of-type {\n",
       "        vertical-align: middle;\n",
       "    }\n",
       "\n",
       "    .dataframe tbody tr th {\n",
       "        vertical-align: top;\n",
       "    }\n",
       "\n",
       "    .dataframe thead th {\n",
       "        text-align: right;\n",
       "    }\n",
       "</style>\n",
       "<table border=\"1\" class=\"dataframe\">\n",
       "  <thead>\n",
       "    <tr style=\"text-align: right;\">\n",
       "      <th>Data</th>\n",
       "      <th>Train</th>\n",
       "      <th>Test</th>\n",
       "    </tr>\n",
       "  </thead>\n",
       "  <tbody>\n",
       "    <tr>\n",
       "      <th>p=1</th>\n",
       "      <td>0.967276</td>\n",
       "      <td>0.952031</td>\n",
       "    </tr>\n",
       "    <tr>\n",
       "      <th>p=2</th>\n",
       "      <td>0.967442</td>\n",
       "      <td>0.951993</td>\n",
       "    </tr>\n",
       "    <tr>\n",
       "      <th>p=3</th>\n",
       "      <td>0.967564</td>\n",
       "      <td>0.951937</td>\n",
       "    </tr>\n",
       "    <tr>\n",
       "      <th>p=4</th>\n",
       "      <td>0.967598</td>\n",
       "      <td>0.951911</td>\n",
       "    </tr>\n",
       "    <tr>\n",
       "      <th>p=5</th>\n",
       "      <td>0.967704</td>\n",
       "      <td>0.951917</td>\n",
       "    </tr>\n",
       "    <tr>\n",
       "      <th>p=6</th>\n",
       "      <td>0.967750</td>\n",
       "      <td>0.951898</td>\n",
       "    </tr>\n",
       "    <tr>\n",
       "      <th>p=7</th>\n",
       "      <td>0.967901</td>\n",
       "      <td>0.951632</td>\n",
       "    </tr>\n",
       "    <tr>\n",
       "      <th>p=8</th>\n",
       "      <td>0.967910</td>\n",
       "      <td>0.951645</td>\n",
       "    </tr>\n",
       "    <tr>\n",
       "      <th>p=9</th>\n",
       "      <td>0.967992</td>\n",
       "      <td>0.951527</td>\n",
       "    </tr>\n",
       "  </tbody>\n",
       "</table>\n",
       "</div>"
      ],
      "text/plain": [
       "Data    Train     Test\n",
       "p=1  0.967276 0.952031\n",
       "p=2  0.967442 0.951993\n",
       "p=3  0.967564 0.951937\n",
       "p=4  0.967598 0.951911\n",
       "p=5  0.967704 0.951917\n",
       "p=6  0.967750 0.951898\n",
       "p=7  0.967901 0.951632\n",
       "p=8  0.967910 0.951645\n",
       "p=9  0.967992 0.951527"
      ]
     },
     "execution_count": 70,
     "metadata": {},
     "output_type": "execute_result"
    }
   ],
   "source": [
    "result_df = []\n",
    "for p in range(1,10):\n",
    "    result_df.append(vix_reg(close_data,r=0.7,p=p).set_index('Data').T)\n",
    "pd.concat(result_df)"
   ]
  },
  {
   "cell_type": "markdown",
   "id": "89063420",
   "metadata": {},
   "source": [
    "**$p=1$ gives the highest $R^{2}$ on the testing set. In general, the model is slightly overfitting.**"
   ]
  },
  {
   "cell_type": "code",
   "execution_count": 71,
   "id": "f3cc46c8",
   "metadata": {},
   "outputs": [],
   "source": [
    "p=1\n",
    "df = close_data.copy()\n",
    "for i in range(1,p+1):\n",
    "    df[f'log_VIX{i}'] = df.log_VIX.shift(i)\n",
    "    df[f'return_GSPC{i}'] = df.return_GSPC.shift(i)\n",
    "    df[f'abs_return_GSPC{i}'] = df.abs_return_GSPC.shift(i)\n",
    "df = df.dropna()\n",
    "train_data = df[:int(0.8*len(df))]\n",
    "test_data = df[int(0.8*len(df)):]\n",
    "X_train = train_data[[f'log_VIX{i}' for i in range(1,p+1)] + [f'return_GSPC{i}' for i in range(1,p+1)] + \n",
    "                     [f'abs_return_GSPC{i}' for i in range(1,p+1)]].values\n",
    "Y_train = train_data[['log_VIX']].values\n",
    "X_test = test_data[[f'log_VIX{i}' for i in range(1,p+1)] + [f'return_GSPC{i}' for i in range(1,p+1)] + \n",
    "                   [f'abs_return_GSPC{i}' for i in range(1,p+1)]].values\n",
    "Y_test = test_data[['log_VIX']].values\n",
    "vix_reg = LinearRegression().fit(X_train, Y_train)"
   ]
  },
  {
   "cell_type": "code",
   "execution_count": 72,
   "id": "f54e11a4",
   "metadata": {},
   "outputs": [],
   "source": [
    "pY_test = vix_reg.predict(X_test)"
   ]
  },
  {
   "cell_type": "markdown",
   "id": "eb1586c9",
   "metadata": {},
   "source": [
    "**A graph comparing the predicted logVIX and the actual logVIX on the testing set.**"
   ]
  },
  {
   "cell_type": "code",
   "execution_count": 74,
   "id": "8eff96e4",
   "metadata": {},
   "outputs": [
    {
     "data": {
      "text/plain": [
       "Text(0.5, 1.0, 'Plot of Predicted vs Actual logVIX on testing')"
      ]
     },
     "execution_count": 74,
     "metadata": {},
     "output_type": "execute_result"
    },
    {
     "data": {
      "image/png": "[encoded data removed]",
      "text/plain": [
       "<Figure size 1600x900 with 1 Axes>"
      ]
     },
     "metadata": {},
     "output_type": "display_data"
    }
   ],
   "source": [
    "plt.scatter(pY_test,Y_test,color='red')\n",
    "xpoints = ypoints = plt.xlim()\n",
    "plt.plot(xpoints, ypoints, linestyle='--', color='k', lw=1, scalex=False, scaley=False)\n",
    "plt.xlim(2.25, 4.5)\n",
    "plt.ylim(2.25, 4.5)\n",
    "plt.xlabel('Predicted logVIX')\n",
    "plt.ylabel('Actual logVIX')\n",
    "plt.title('Plot of Predicted vs Actual logVIX on testing')"
   ]
  },
  {
   "cell_type": "code",
   "execution_count": 75,
   "id": "cc74b8c8",
   "metadata": {},
   "outputs": [],
   "source": [
    "pY_train = vix_reg.predict(X_train)"
   ]
  },
  {
   "cell_type": "code",
   "execution_count": 77,
   "id": "b798b6ca",
   "metadata": {},
   "outputs": [
    {
     "name": "stdout",
     "output_type": "stream",
     "text": [
      "    Data     RMSE      MAE     MAPE\n",
      "0  Train 0.067315 0.048052 1.639608\n",
      "1   Test 0.078506 0.056073 1.839782\n"
     ]
    }
   ],
   "source": [
    "print(\n",
    "    pd.DataFrame(\n",
    "            {\n",
    "                \"Data\": [\"Train\", \"Test\"],\n",
    "                \"RMSE\": [rmse(pY_train.reshape(-1), Y_train.reshape(-1)), rmse(pY_test.reshape(-1), Y_test.reshape(-1)),],\n",
    "                \"MAE\": [mae(pY_train.reshape(-1), Y_train.reshape(-1)),mae(pY_test.reshape(-1), Y_test.reshape(-1)),],\n",
    "                \"MAPE\": [mape(pY_train.reshape(-1), Y_train.reshape(-1)),mape(pY_test.reshape(-1), Y_test.reshape(-1)),],\n",
    "            }\n",
    "        )\n",
    "    )"
   ]
  },
  {
   "cell_type": "code",
   "execution_count": null,
   "id": "996dfb84",
   "metadata": {},
   "outputs": [],
   "source": []
  }
 ],
 "metadata": {
  "kernelspec": {
   "display_name": "Python 3 (ipykernel)",
   "language": "python",
   "name": "python3"
  },
  "language_info": {
   "codemirror_mode": {
    "name": "ipython",
    "version": 3
   },
   "file_extension": ".py",
   "mimetype": "text/x-python",
   "name": "python",
   "nbconvert_exporter": "python",
   "pygments_lexer": "ipython3",
   "version": "3.10.9"
  }
 },
 "nbformat": 4,
 "nbformat_minor": 5
}
